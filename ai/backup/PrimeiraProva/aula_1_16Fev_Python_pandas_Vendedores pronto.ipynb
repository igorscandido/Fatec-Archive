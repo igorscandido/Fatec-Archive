{
 "cells": [
  {
   "cell_type": "code",
   "execution_count": 1,
   "id": "8effed7d",
   "metadata": {},
   "outputs": [
    {
     "data": {
      "text/html": [
       "<div>\n",
       "<style scoped>\n",
       "    .dataframe tbody tr th:only-of-type {\n",
       "        vertical-align: middle;\n",
       "    }\n",
       "\n",
       "    .dataframe tbody tr th {\n",
       "        vertical-align: top;\n",
       "    }\n",
       "\n",
       "    .dataframe thead th {\n",
       "        text-align: right;\n",
       "    }\n",
       "</style>\n",
       "<table border=\"1\" class=\"dataframe\">\n",
       "  <thead>\n",
       "    <tr style=\"text-align: right;\">\n",
       "      <th></th>\n",
       "      <th>nome</th>\n",
       "      <th>salarioBase</th>\n",
       "      <th>valorVendas</th>\n",
       "    </tr>\n",
       "  </thead>\n",
       "  <tbody>\n",
       "    <tr>\n",
       "      <th>0</th>\n",
       "      <td>Ivo</td>\n",
       "      <td>1500.0</td>\n",
       "      <td>7000.0</td>\n",
       "    </tr>\n",
       "    <tr>\n",
       "      <th>1</th>\n",
       "      <td>Iumi</td>\n",
       "      <td>2500.0</td>\n",
       "      <td>8000.0</td>\n",
       "    </tr>\n",
       "    <tr>\n",
       "      <th>2</th>\n",
       "      <td>Alan</td>\n",
       "      <td>1000.0</td>\n",
       "      <td>6000.0</td>\n",
       "    </tr>\n",
       "    <tr>\n",
       "      <th>3</th>\n",
       "      <td>Ian</td>\n",
       "      <td>3500.0</td>\n",
       "      <td>10000.0</td>\n",
       "    </tr>\n",
       "    <tr>\n",
       "      <th>4</th>\n",
       "      <td>Bia</td>\n",
       "      <td>3000.0</td>\n",
       "      <td>5000.0</td>\n",
       "    </tr>\n",
       "    <tr>\n",
       "      <th>5</th>\n",
       "      <td>Gil</td>\n",
       "      <td>2000.0</td>\n",
       "      <td>9000.0</td>\n",
       "    </tr>\n",
       "  </tbody>\n",
       "</table>\n",
       "</div>"
      ],
      "text/plain": [
       "   nome  salarioBase  valorVendas\n",
       "0   Ivo       1500.0       7000.0\n",
       "1  Iumi       2500.0       8000.0\n",
       "2  Alan       1000.0       6000.0\n",
       "3   Ian       3500.0      10000.0\n",
       "4   Bia       3000.0       5000.0\n",
       "5   Gil       2000.0       9000.0"
      ]
     },
     "execution_count": 1,
     "metadata": {},
     "output_type": "execute_result"
    }
   ],
   "source": [
    "import pandas as pd\n",
    "dados = pd.read_csv('vendedores.csv')\n",
    "dados"
   ]
  },
  {
   "cell_type": "code",
   "execution_count": 5,
   "id": "755d3b1f",
   "metadata": {},
   "outputs": [],
   "source": [
    "nome = dados['nome']\n",
    "salarioBase = dados['salarioBase']\n",
    "valorVendas = dados['valorVendas']"
   ]
  },
  {
   "cell_type": "code",
   "execution_count": 6,
   "id": "ab860013",
   "metadata": {},
   "outputs": [
    {
     "data": {
      "text/plain": [
       "pandas.core.series.Series"
      ]
     },
     "execution_count": 6,
     "metadata": {},
     "output_type": "execute_result"
    }
   ],
   "source": [
    "type(nome)"
   ]
  },
  {
   "cell_type": "code",
   "execution_count": 7,
   "id": "6f0324c5",
   "metadata": {},
   "outputs": [
    {
     "data": {
      "text/plain": [
       "pandas.core.frame.DataFrame"
      ]
     },
     "execution_count": 7,
     "metadata": {},
     "output_type": "execute_result"
    }
   ],
   "source": [
    "type(dados)"
   ]
  },
  {
   "cell_type": "code",
   "execution_count": 10,
   "id": "8806d4c4",
   "metadata": {},
   "outputs": [
    {
     "name": "stdout",
     "output_type": "stream",
     "text": [
      "7500.0\n"
     ]
    }
   ],
   "source": [
    "soma = 0\n",
    "for i in range(6):\n",
    "    soma += valorVendas[i]\n",
    "    \n",
    "print(soma/len(valorVendas))"
   ]
  },
  {
   "cell_type": "code",
   "execution_count": 11,
   "id": "7972ec70",
   "metadata": {},
   "outputs": [
    {
     "data": {
      "text/plain": [
       "45000.0"
      ]
     },
     "execution_count": 11,
     "metadata": {},
     "output_type": "execute_result"
    }
   ],
   "source": [
    "valorVendas.sum()"
   ]
  },
  {
   "cell_type": "code",
   "execution_count": 12,
   "id": "083e72da",
   "metadata": {},
   "outputs": [
    {
     "data": {
      "text/plain": [
       "7500.0"
      ]
     },
     "execution_count": 12,
     "metadata": {},
     "output_type": "execute_result"
    }
   ],
   "source": [
    "valorVendas.mean()"
   ]
  },
  {
   "cell_type": "code",
   "execution_count": 13,
   "id": "a5e4eda0",
   "metadata": {},
   "outputs": [
    {
     "name": "stdout",
     "output_type": "stream",
     "text": [
      "Ivo\n",
      "Alan\n"
     ]
    }
   ],
   "source": [
    "for nm,sb in zip(nome, salarioBase):\n",
    "    if sb < 2000:\n",
    "        print(nm)"
   ]
  },
  {
   "cell_type": "code",
   "execution_count": null,
   "id": "a1993c68",
   "metadata": {},
   "outputs": [],
   "source": []
  }
 ],
 "metadata": {
  "kernelspec": {
   "display_name": "Python 3 (ipykernel)",
   "language": "python",
   "name": "python3"
  },
  "language_info": {
   "codemirror_mode": {
    "name": "ipython",
    "version": 3
   },
   "file_extension": ".py",
   "mimetype": "text/x-python",
   "name": "python",
   "nbconvert_exporter": "python",
   "pygments_lexer": "ipython3",
   "version": "3.11.5"
  }
 },
 "nbformat": 4,
 "nbformat_minor": 5
}
