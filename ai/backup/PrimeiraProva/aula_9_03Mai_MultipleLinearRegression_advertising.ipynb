{
 "cells": [
  {
   "cell_type": "code",
   "execution_count": 1,
   "id": "a55829e0",
   "metadata": {},
   "outputs": [],
   "source": [
    "import pandas as pd"
   ]
  },
  {
   "cell_type": "code",
   "execution_count": 35,
   "id": "b0ea880c",
   "metadata": {},
   "outputs": [],
   "source": [
    "Advertising = pd.read_csv('Advertising.csv')\n"
   ]
  },
  {
   "cell_type": "code",
   "execution_count": 36,
   "id": "7ae4c977",
   "metadata": {},
   "outputs": [],
   "source": [
    "Advertising = pd.read_csv('Advertising.csv', index_col='Unnamed: 0')\n"
   ]
  },
  {
   "cell_type": "code",
   "execution_count": 4,
   "id": "9ad6452f",
   "metadata": {},
   "outputs": [],
   "source": [
    "from matplotlib.pyplot import subplots"
   ]
  },
  {
   "cell_type": "code",
   "execution_count": null,
   "id": "698cd81d",
   "metadata": {},
   "outputs": [],
   "source": [
    "fig, axes = subplots(ncols=3, figsize=(15,4))\n",
    "Advertising.plot.scatter('TV', 'sales', ax=axes[0])\n",
    "Advertising.plot.scatter('radio', 'sales', ax=axes[1])\n",
    "Advertising.plot.scatter('newspaper', 'sales', ax=axes[2]);"
   ]
  },
  {
   "cell_type": "code",
   "execution_count": null,
   "id": "1faccac1",
   "metadata": {},
   "outputs": [],
   "source": [
    "from PIL import Image\n",
    "img = Image.open('reta.png')\n",
    "img"
   ]
  },
  {
   "cell_type": "markdown",
   "id": "7890874b",
   "metadata": {},
   "source": [
    "#### n é o coeficiente linear (<u>intercepto</u>) é o valor de Y para x = 0.\n",
    "\n",
    "#### m é a inclinação (<u>coeficiente</u> angular) é aumento médio em y quando o x aumenta de uma unidade.\n",
    "\n",
    "### <center>Como descobrir o m e o n?</center>\n",
    "### Queremos encontrar um coeficiente linear (intercepto) e uma inclinação (coeficiente angular)<br><br>tais que a reta resultante esteja o mais próxima possível dos 200 pontos de dados.<br><br>Existem várias maneiras de medir esta proximidade.<br><br>No entanto, de longe, a abordagem mais comum é minimizar a<br><br>soma dos quadrados dos resíduos entre<br><br>os 200 valores observados e os valores previstos pela aproximação linear"
   ]
  },
  {
   "cell_type": "code",
   "execution_count": null,
   "id": "7951f8db",
   "metadata": {},
   "outputs": [],
   "source": []
  },
  {
   "cell_type": "code",
   "execution_count": null,
   "id": "1309a60d",
   "metadata": {},
   "outputs": [],
   "source": [
    "from PIL import Image\n",
    "img = Image.open('residuos.png')\n",
    "img"
   ]
  },
  {
   "cell_type": "markdown",
   "id": "2aa8d420",
   "metadata": {},
   "source": [
    "$$\n",
    "\\large \\text{resíduo}(X) = (y(X) - \\text{predito}(X))^2\n",
    "$$\n"
   ]
  },
  {
   "cell_type": "markdown",
   "id": "18758099",
   "metadata": {},
   "source": [
    "# Modelos lineares"
   ]
  },
  {
   "cell_type": "code",
   "execution_count": 8,
   "id": "583ed74b",
   "metadata": {},
   "outputs": [],
   "source": [
    "from sklearn.linear_model import LinearRegression"
   ]
  },
  {
   "cell_type": "code",
   "execution_count": null,
   "id": "a112576c",
   "metadata": {},
   "outputs": [],
   "source": []
  },
  {
   "cell_type": "markdown",
   "id": "92472935",
   "metadata": {},
   "source": [
    "## Previsão de vendas baseada apenas no investimento em TV"
   ]
  },
  {
   "cell_type": "code",
   "execution_count": 9,
   "id": "fd6c8f96",
   "metadata": {},
   "outputs": [],
   "source": [
    "modelo_tv = LinearRegression()"
   ]
  },
  {
   "cell_type": "code",
   "execution_count": 10,
   "id": "c395968d",
   "metadata": {},
   "outputs": [],
   "source": [
    "Xtv = Advertising['TV']\n",
    "ytv = Advertising['sales']"
   ]
  },
  {
   "cell_type": "code",
   "execution_count": 11,
   "id": "6cbde799",
   "metadata": {},
   "outputs": [],
   "source": [
    "#modelo_tv.fit(Xtv,ytv)"
   ]
  },
  {
   "cell_type": "markdown",
   "id": "35a7fb4a",
   "metadata": {},
   "source": [
    "Erro na chamada do método fit(): \n",
    "    \n",
    "    Expected 2D array, got 1D array instead\n",
    "\n",
    "Para corrigir:\n",
    "    \n",
    "    Reshape your data either \n",
    "    using array.reshape(-1, 1) if your data has a single feature or \n",
    "    array.reshape(1, -1) if it contains a single sample."
   ]
  },
  {
   "cell_type": "markdown",
   "id": "65bb8c47",
   "metadata": {},
   "source": [
    "reshape(-1, 1): primeiro argumento calcula o número de linhas necessário para que<br>\n",
    "o array resultante tenha uma única coluna. O segundo argumento, 1, indica que o array resultante tem que ter uma coluna.\n",
    "\n",
    "reshape(1, -1): O primeiro argumento indica que o array resultante tem que ter uma única linha. O segundo argumento calcula o número de colunas necessário para que o array resultante tenha uma única linha."
   ]
  },
  {
   "cell_type": "markdown",
   "id": "9c856f3d",
   "metadata": {},
   "source": [
    "**O reshape é necessário por causa da assinatura do método fit, cujo primeiro parâmetro (o X) é um array de dimensão (n_samples, n_features). Não pode ser um array unidimensional (o nosso vetor de algoritmos). O y costuma ser unidimensional, mas pode ser multimensional.**"
   ]
  },
  {
   "cell_type": "code",
   "execution_count": 12,
   "id": "18a8f0ab",
   "metadata": {},
   "outputs": [
    {
     "name": "stdout",
     "output_type": "stream",
     "text": [
      "(200,)        (200, 1)       (200,)\n"
     ]
    }
   ],
   "source": [
    "print(Xtv.shape, \"      \", Xtv.values.reshape(-1,1).shape, \"     \", ytv.shape)"
   ]
  },
  {
   "cell_type": "code",
   "execution_count": 13,
   "id": "7c8742b0",
   "metadata": {},
   "outputs": [
    {
     "data": {
      "text/plain": [
       "(pandas.core.series.Series, pandas.core.series.Series)"
      ]
     },
     "execution_count": 13,
     "metadata": {},
     "output_type": "execute_result"
    }
   ],
   "source": [
    "type(Xtv), type(ytv)"
   ]
  },
  {
   "cell_type": "markdown",
   "id": "45e09bdb",
   "metadata": {},
   "source": [
    "**Se Xtv fosse do tipo array numpy em vez de ser do tipo Series, não precisaria do .values**"
   ]
  },
  {
   "cell_type": "code",
   "execution_count": 14,
   "id": "d48456e1",
   "metadata": {},
   "outputs": [
    {
     "data": {
      "text/html": [
       "<style>#sk-container-id-1 {color: black;background-color: white;}#sk-container-id-1 pre{padding: 0;}#sk-container-id-1 div.sk-toggleable {background-color: white;}#sk-container-id-1 label.sk-toggleable__label {cursor: pointer;display: block;width: 100%;margin-bottom: 0;padding: 0.3em;box-sizing: border-box;text-align: center;}#sk-container-id-1 label.sk-toggleable__label-arrow:before {content: \"▸\";float: left;margin-right: 0.25em;color: #696969;}#sk-container-id-1 label.sk-toggleable__label-arrow:hover:before {color: black;}#sk-container-id-1 div.sk-estimator:hover label.sk-toggleable__label-arrow:before {color: black;}#sk-container-id-1 div.sk-toggleable__content {max-height: 0;max-width: 0;overflow: hidden;text-align: left;background-color: #f0f8ff;}#sk-container-id-1 div.sk-toggleable__content pre {margin: 0.2em;color: black;border-radius: 0.25em;background-color: #f0f8ff;}#sk-container-id-1 input.sk-toggleable__control:checked~div.sk-toggleable__content {max-height: 200px;max-width: 100%;overflow: auto;}#sk-container-id-1 input.sk-toggleable__control:checked~label.sk-toggleable__label-arrow:before {content: \"▾\";}#sk-container-id-1 div.sk-estimator input.sk-toggleable__control:checked~label.sk-toggleable__label {background-color: #d4ebff;}#sk-container-id-1 div.sk-label input.sk-toggleable__control:checked~label.sk-toggleable__label {background-color: #d4ebff;}#sk-container-id-1 input.sk-hidden--visually {border: 0;clip: rect(1px 1px 1px 1px);clip: rect(1px, 1px, 1px, 1px);height: 1px;margin: -1px;overflow: hidden;padding: 0;position: absolute;width: 1px;}#sk-container-id-1 div.sk-estimator {font-family: monospace;background-color: #f0f8ff;border: 1px dotted black;border-radius: 0.25em;box-sizing: border-box;margin-bottom: 0.5em;}#sk-container-id-1 div.sk-estimator:hover {background-color: #d4ebff;}#sk-container-id-1 div.sk-parallel-item::after {content: \"\";width: 100%;border-bottom: 1px solid gray;flex-grow: 1;}#sk-container-id-1 div.sk-label:hover label.sk-toggleable__label {background-color: #d4ebff;}#sk-container-id-1 div.sk-serial::before {content: \"\";position: absolute;border-left: 1px solid gray;box-sizing: border-box;top: 0;bottom: 0;left: 50%;z-index: 0;}#sk-container-id-1 div.sk-serial {display: flex;flex-direction: column;align-items: center;background-color: white;padding-right: 0.2em;padding-left: 0.2em;position: relative;}#sk-container-id-1 div.sk-item {position: relative;z-index: 1;}#sk-container-id-1 div.sk-parallel {display: flex;align-items: stretch;justify-content: center;background-color: white;position: relative;}#sk-container-id-1 div.sk-item::before, #sk-container-id-1 div.sk-parallel-item::before {content: \"\";position: absolute;border-left: 1px solid gray;box-sizing: border-box;top: 0;bottom: 0;left: 50%;z-index: -1;}#sk-container-id-1 div.sk-parallel-item {display: flex;flex-direction: column;z-index: 1;position: relative;background-color: white;}#sk-container-id-1 div.sk-parallel-item:first-child::after {align-self: flex-end;width: 50%;}#sk-container-id-1 div.sk-parallel-item:last-child::after {align-self: flex-start;width: 50%;}#sk-container-id-1 div.sk-parallel-item:only-child::after {width: 0;}#sk-container-id-1 div.sk-dashed-wrapped {border: 1px dashed gray;margin: 0 0.4em 0.5em 0.4em;box-sizing: border-box;padding-bottom: 0.4em;background-color: white;}#sk-container-id-1 div.sk-label label {font-family: monospace;font-weight: bold;display: inline-block;line-height: 1.2em;}#sk-container-id-1 div.sk-label-container {text-align: center;}#sk-container-id-1 div.sk-container {/* jupyter's `normalize.less` sets `[hidden] { display: none; }` but bootstrap.min.css set `[hidden] { display: none !important; }` so we also need the `!important` here to be able to override the default hidden behavior on the sphinx rendered scikit-learn.org. See: https://github.com/scikit-learn/scikit-learn/issues/21755 */display: inline-block !important;position: relative;}#sk-container-id-1 div.sk-text-repr-fallback {display: none;}</style><div id=\"sk-container-id-1\" class=\"sk-top-container\"><div class=\"sk-text-repr-fallback\"><pre>LinearRegression()</pre><b>In a Jupyter environment, please rerun this cell to show the HTML representation or trust the notebook. <br />On GitHub, the HTML representation is unable to render, please try loading this page with nbviewer.org.</b></div><div class=\"sk-container\" hidden><div class=\"sk-item\"><div class=\"sk-estimator sk-toggleable\"><input class=\"sk-toggleable__control sk-hidden--visually\" id=\"sk-estimator-id-1\" type=\"checkbox\" checked><label for=\"sk-estimator-id-1\" class=\"sk-toggleable__label sk-toggleable__label-arrow\">LinearRegression</label><div class=\"sk-toggleable__content\"><pre>LinearRegression()</pre></div></div></div></div></div>"
      ],
      "text/plain": [
       "LinearRegression()"
      ]
     },
     "execution_count": 14,
     "metadata": {},
     "output_type": "execute_result"
    }
   ],
   "source": [
    "modelo_tv.fit(Xtv.values.reshape(-1,1),ytv)"
   ]
  },
  {
   "cell_type": "code",
   "execution_count": 15,
   "id": "3419341b",
   "metadata": {},
   "outputs": [
    {
     "data": {
      "text/plain": [
       "(array([0.04753664]), 7.032593549127694)"
      ]
     },
     "execution_count": 15,
     "metadata": {},
     "output_type": "execute_result"
    }
   ],
   "source": [
    "Atv = modelo_tv.coef_\n",
    "Btv = modelo_tv.intercept_\n",
    "Atv, Btv"
   ]
  },
  {
   "cell_type": "code",
   "execution_count": 16,
   "id": "6b6500ab",
   "metadata": {},
   "outputs": [
    {
     "data": {
      "text/plain": [
       "(numpy.ndarray, numpy.float64)"
      ]
     },
     "execution_count": 16,
     "metadata": {},
     "output_type": "execute_result"
    }
   ],
   "source": [
    "type(Atv), type(Btv) "
   ]
  },
  {
   "cell_type": "code",
   "execution_count": 17,
   "id": "60b2e24e",
   "metadata": {},
   "outputs": [
    {
     "data": {
      "text/plain": [
       "((1,), ())"
      ]
     },
     "execution_count": 17,
     "metadata": {},
     "output_type": "execute_result"
    }
   ],
   "source": [
    "Atv.shape, Btv.shape"
   ]
  },
  {
   "cell_type": "markdown",
   "id": "48f2f629",
   "metadata": {},
   "source": [
    "**O coef_ é um array multidimensional! O intercept é número simples (um escalar)**"
   ]
  },
  {
   "cell_type": "code",
   "execution_count": null,
   "id": "d2bfefcf",
   "metadata": {},
   "outputs": [],
   "source": []
  },
  {
   "cell_type": "markdown",
   "id": "cdfc4b77",
   "metadata": {},
   "source": [
    "## O que significa o valor de coef_ (inclinação) 0.04753664?\n",
    "\n",
    "###  a inclinação descreve a taxa de mudança: a inclinação representa o quanto a variável dependente (eixo y) muda em resposta a uma mudança <u>unitária</u> na variável independente (eixo x). A inclinação é uma medida de uma razão, não de ângulo.\n",
    "\n",
    "## De acordo com este modelo, um aumento de 1000 dólares em gastos com propaganda na TV leva à venda de, aproximadamente, 50 unidades a mais."
   ]
  },
  {
   "cell_type": "code",
   "execution_count": 18,
   "id": "583b8912",
   "metadata": {},
   "outputs": [],
   "source": [
    "import numpy as np\n",
    "import matplotlib.pyplot as plt"
   ]
  },
  {
   "cell_type": "code",
   "execution_count": 19,
   "id": "7d2f5779",
   "metadata": {},
   "outputs": [
    {
     "data": {
      "image/png": "[encoded data removed]",
      "text/plain": [
       "<Figure size 640x480 with 1 Axes>"
      ]
     },
     "metadata": {},
     "output_type": "display_data"
    }
   ],
   "source": [
    "X = np.linspace(0,300)  \n",
    "\n",
    "y = Atv*X + Btv\n",
    "plt.plot(X, y, c=\"red\") # sciKit\n",
    "\n",
    "plt.scatter(Advertising['TV'],Advertising['sales']);  # dados observados"
   ]
  },
  {
   "cell_type": "code",
   "execution_count": 20,
   "id": "37eaa48e",
   "metadata": {},
   "outputs": [
    {
     "data": {
      "text/plain": [
       "0.611875050850071"
      ]
     },
     "execution_count": 20,
     "metadata": {},
     "output_type": "execute_result"
    }
   ],
   "source": [
    "modelo_tv.score(Xtv.values.reshape(-1,1),ytv)"
   ]
  },
  {
   "cell_type": "code",
   "execution_count": null,
   "id": "69641cff",
   "metadata": {},
   "outputs": [],
   "source": []
  },
  {
   "cell_type": "markdown",
   "id": "b11c3223",
   "metadata": {},
   "source": [
    "## Previsão de vendas baseada apenas no investimento em radio"
   ]
  },
  {
   "cell_type": "code",
   "execution_count": 21,
   "id": "d841dc80",
   "metadata": {},
   "outputs": [
    {
     "data": {
      "text/plain": [
       "(array([0.20249578]), 9.311638095158283)"
      ]
     },
     "execution_count": 21,
     "metadata": {},
     "output_type": "execute_result"
    }
   ],
   "source": [
    "modelo_radio = LinearRegression()\n",
    "\n",
    "Xradio = Advertising['radio']\n",
    "yradio = Advertising['sales']\n",
    "\n",
    "modelo_radio.fit(Xradio.values.reshape(-1,1),yradio)\n",
    "\n",
    "Aradio = modelo_radio.coef_\n",
    "Bradio = modelo_radio.intercept_\n",
    "Aradio,Bradio"
   ]
  },
  {
   "cell_type": "code",
   "execution_count": 22,
   "id": "c6646f00",
   "metadata": {},
   "outputs": [
    {
     "data": {
      "text/plain": [
       "0.33203245544529525"
      ]
     },
     "execution_count": 22,
     "metadata": {},
     "output_type": "execute_result"
    }
   ],
   "source": [
    "modelo_radio.score(Xradio.values.reshape(-1,1),yradio)"
   ]
  },
  {
   "cell_type": "code",
   "execution_count": null,
   "id": "b6cb3098",
   "metadata": {},
   "outputs": [],
   "source": []
  },
  {
   "cell_type": "markdown",
   "id": "d1723f0a",
   "metadata": {},
   "source": [
    "## Previsão de vendas baseada apenas no investimento em news"
   ]
  },
  {
   "cell_type": "code",
   "execution_count": 23,
   "id": "b0f102ec",
   "metadata": {},
   "outputs": [
    {
     "data": {
      "text/plain": [
       "(array([0.0546931]), 12.351407069278162)"
      ]
     },
     "execution_count": 23,
     "metadata": {},
     "output_type": "execute_result"
    }
   ],
   "source": [
    "modelo_news = LinearRegression()\n",
    "\n",
    "Xnews = Advertising['newspaper']\n",
    "ynews = Advertising['sales']\n",
    "\n",
    "modelo_news.fit(Xnews.values.reshape(-1,1),ynews)\n",
    "\n",
    "Anews = modelo_news.coef_\n",
    "Bnews = modelo_news.intercept_\n",
    "Anews,Bnews"
   ]
  },
  {
   "cell_type": "code",
   "execution_count": 24,
   "id": "ce823f3c",
   "metadata": {},
   "outputs": [
    {
     "data": {
      "text/plain": [
       "0.05212044544430516"
      ]
     },
     "execution_count": 24,
     "metadata": {},
     "output_type": "execute_result"
    }
   ],
   "source": [
    "modelo_news.score(Xnews.values.reshape(-1,1),ynews)"
   ]
  },
  {
   "cell_type": "code",
   "execution_count": null,
   "id": "23d84088",
   "metadata": {},
   "outputs": [],
   "source": []
  },
  {
   "cell_type": "markdown",
   "id": "f7a59910",
   "metadata": {},
   "source": [
    "||TV|radio|jornal|\n",
    "|----|------|------|------|\n",
    "|coef|0.0475|0.203|0.055|\n",
    "|intercept|7.03|9.31|12.35|\n",
    "|score|0.61|0.33|0.052|\n",
    "\n",
    ">>TV: cada 1000 dólares em propaganda aumentam as vendas em 47,5 unidades<br>\n",
    ">>radio: cada 1000 dólares em propaganda aumentam as vendas em 203 unidades<br>\n",
    ">>newsp: cada 1000 dólares em propaganda aumentam as vendas em 55 unidades"
   ]
  },
  {
   "cell_type": "code",
   "execution_count": null,
   "id": "52b4e62f",
   "metadata": {},
   "outputs": [],
   "source": []
  },
  {
   "cell_type": "markdown",
   "id": "790ec664",
   "metadata": {},
   "source": [
    "### Cada uma das três equações de regressão ignora as outras duas mídias ao formar estimativas para os coeficientes de regressão. \n",
    "\n",
    "### Se os orçamentos de publicidade estão correlacionados entre si nos 200 mercados consumidores em nosso conjunto de dados, isso pode levar a estimativas muito enganosas da associação entre cada orçamento de mídia e as vendas."
   ]
  },
  {
   "cell_type": "code",
   "execution_count": null,
   "id": "4ff4cf8e",
   "metadata": {},
   "outputs": [],
   "source": []
  },
  {
   "cell_type": "code",
   "execution_count": null,
   "id": "650dcc91",
   "metadata": {},
   "outputs": [],
   "source": []
  },
  {
   "cell_type": "markdown",
   "id": "0c0c48e5",
   "metadata": {},
   "source": [
    "# <center> Multiple Linear Regression</center>"
   ]
  },
  {
   "attachments": {
    "image-2.png": {
     "image/png": "[encoded data removed]"
    }
   },
   "cell_type": "markdown",
   "id": "2d6d6e39",
   "metadata": {},
   "source": [
    "\n",
    "\n",
    "![image-2.png](attachment:image-2.png)"
   ]
  },
  {
   "cell_type": "code",
   "execution_count": null,
   "id": "66b42ebe",
   "metadata": {},
   "outputs": [],
   "source": []
  },
  {
   "cell_type": "markdown",
   "id": "6765478c",
   "metadata": {},
   "source": [
    "## Previsão de vendas baseada apenas no investimento em TV e radio"
   ]
  },
  {
   "cell_type": "code",
   "execution_count": 25,
   "id": "2f0345ec",
   "metadata": {},
   "outputs": [
    {
     "name": "stdout",
     "output_type": "stream",
     "text": [
      "(200, 2) (200,)\n"
     ]
    }
   ],
   "source": [
    "modelo_tvRadio = LinearRegression()\n",
    "\n",
    "XtvRadio = Advertising[['TV', 'radio']]\n",
    "ytvRadio = Advertising['sales']\n",
    "\n",
    "print(XtvRadio.shape, ytvRadio.shape)\n",
    "\n",
    "# treinamento\n",
    "modelo_tvRadio.fit(XtvRadio,ytvRadio)\n",
    "\n",
    "AtvRadio = modelo_tvRadio.coef_\n",
    "BtvRadio = modelo_tvRadio.intercept_"
   ]
  },
  {
   "cell_type": "code",
   "execution_count": 26,
   "id": "7327c727",
   "metadata": {},
   "outputs": [
    {
     "name": "stdout",
     "output_type": "stream",
     "text": [
      "0.04753664043301976 0.20249578339243965\n",
      "0.04575481510107615 0.1879942266203092\n",
      "\n",
      "7.032593549127694\n",
      "9.311638095158283\n",
      "2.9210999124051362\n"
     ]
    }
   ],
   "source": [
    "print(Atv[0],Aradio[0])\n",
    "print(AtvRadio[0],AtvRadio[1])\n",
    "print()\n",
    "print(Btv)\n",
    "print(Bradio)\n",
    "print(BtvRadio)"
   ]
  },
  {
   "cell_type": "code",
   "execution_count": null,
   "id": "6051dfe5",
   "metadata": {},
   "outputs": [],
   "source": []
  },
  {
   "cell_type": "markdown",
   "id": "ab1d57a8",
   "metadata": {},
   "source": [
    "## Previsão de vendas baseada apenas no investimento em TV e news"
   ]
  },
  {
   "cell_type": "code",
   "execution_count": 27,
   "id": "c8b0f4ca",
   "metadata": {},
   "outputs": [
    {
     "name": "stdout",
     "output_type": "stream",
     "text": [
      "(200, 2) (200,)\n"
     ]
    }
   ],
   "source": [
    "modelo_tvNews = LinearRegression()\n",
    "\n",
    "XtvNews = Advertising[['TV', 'newspaper']]\n",
    "ytvNews = Advertising['sales']\n",
    "\n",
    "print(XtvNews.shape, ytvNews.shape)\n",
    "\n",
    "# treinamento\n",
    "modelo_tvNews.fit(XtvNews,ytvNews)\n",
    "\n",
    "AtvNews = modelo_tvNews.coef_\n",
    "BtvNews = modelo_tvNews.intercept_"
   ]
  },
  {
   "cell_type": "code",
   "execution_count": 28,
   "id": "c6f76a74",
   "metadata": {},
   "outputs": [
    {
     "name": "stdout",
     "output_type": "stream",
     "text": [
      "0.04753664043301976 0.05469309847227335\n",
      "0.04690121389190708 0.04421942424519282\n",
      "\n",
      "7.032593549127694\n",
      "12.351407069278162\n",
      "5.774947967911633\n"
     ]
    }
   ],
   "source": [
    "print(Atv[0],Anews[0])\n",
    "print(AtvNews[0],AtvNews[1])\n",
    "print()\n",
    "print(Btv)\n",
    "print(Bnews)\n",
    "print(BtvNews)"
   ]
  },
  {
   "cell_type": "code",
   "execution_count": null,
   "id": "a92b75a2",
   "metadata": {},
   "outputs": [],
   "source": []
  },
  {
   "cell_type": "markdown",
   "id": "c073e1d6",
   "metadata": {},
   "source": [
    "## Previsão de vendas baseada no investimento em TV, radio e news"
   ]
  },
  {
   "cell_type": "code",
   "execution_count": 29,
   "id": "227ee513",
   "metadata": {},
   "outputs": [],
   "source": [
    "modelo_tvRadioNews = LinearRegression()\n",
    "\n",
    "X = Advertising[['TV', 'radio', 'newspaper']]\n",
    "y = Advertising['sales']\n",
    "\n",
    "modelo_tvRadioNews.fit(X,y)\n",
    "\n",
    "AtvRadioNews = modelo_tvRadioNews.coef_\n",
    "BtvRadioNews = modelo_tvRadioNews.intercept_"
   ]
  },
  {
   "cell_type": "code",
   "execution_count": 30,
   "id": "2af09e0b",
   "metadata": {},
   "outputs": [
    {
     "name": "stdout",
     "output_type": "stream",
     "text": [
      "0.04753664043301976 0.20249578339243965 0.05469309847227335\n",
      "0.04576464545539761 0.18853001691820456 -0.00103749304247632\n",
      "\n",
      "7.032593549127694 9.311638095158283 12.351407069278162\n",
      "2.9388893694594085\n"
     ]
    }
   ],
   "source": [
    "print(Atv[0],Aradio[0],Anews[0])\n",
    "print(AtvRadioNews[0],AtvRadioNews[1], AtvRadioNews[2])\n",
    "print()\n",
    "print(Btv,Bradio,Bnews)\n",
    "print(BtvRadioNews)"
   ]
  },
  {
   "cell_type": "code",
   "execution_count": 31,
   "id": "ebf83cbd",
   "metadata": {},
   "outputs": [
    {
     "name": "stdout",
     "output_type": "stream",
     "text": [
      "TV    0.611875050850071\n",
      "Radio 0.33203245544529525\n",
      "News  0.05212044544430516\n",
      "\n",
      "TV e radio       0.8971942610828957\n",
      "\n",
      "TV e news        0.6458354938293273\n",
      "\n",
      "TV, radio e news 0.8972106381789522\n"
     ]
    }
   ],
   "source": [
    "print('TV   ', modelo_tv.score(Xtv.values.reshape(-1,1),ytv))\n",
    "print('Radio',modelo_radio.score(Xradio.values.reshape(-1,1),yradio))\n",
    "print('News ',modelo_news.score(Xnews.values.reshape(-1,1),ynews))\n",
    "print()\n",
    "print('TV e radio      ',modelo_tvRadio.score(XtvRadio,ytvRadio))\n",
    "print()\n",
    "print('TV e news       ',modelo_tvNews.score(XtvNews,ytvNews))\n",
    "print()\n",
    "print('TV, radio e news', modelo_tvRadioNews.score(X,y))"
   ]
  },
  {
   "cell_type": "code",
   "execution_count": null,
   "id": "5eb8e4ab",
   "metadata": {},
   "outputs": [],
   "source": []
  },
  {
   "cell_type": "markdown",
   "id": "ef681e64",
   "metadata": {},
   "source": [
    "## A regressão linear múltipla mostra que a propaganda em jornais não está associada com as vendas"
   ]
  },
  {
   "cell_type": "markdown",
   "id": "02c81fe5",
   "metadata": {},
   "source": [
    "James pg 83\n",
    "Hence, in a simple linear regression which only examines sales versus\n",
    "newspaper, we will observe that higher values of newspaper tend to be\n",
    "associated with higher values of sales, even though newspaper \n",
    "advertising is not directly associated with sales. \n",
    "So newspaper advertising is a surrogate for radio advertising; \n",
    "newspaper gets “credit” for the association between radio on sales\n",
    "\n",
    "Assim, numa regressão linear simples que examina apenas \n",
    "vendas versus jornais, observaremos que valores mais elevados \n",
    "de jornais tendem a estar associados a valores mais elevados \n",
    "de vendas, embora a publicidade em jornais não esteja diretamente \n",
    "associada às vendas. Portanto, a publicidade nos jornais é um \n",
    "substituto da publicidade no rádio; jornal recebe “crédito” \n",
    "pela associação entre rádio em vendas.\n",
    "\n",
    "\n",
    "\n",
    "This slightly counterintuitive result is very common in many real life\n",
    "situations. Consider an absurd example to illustrate the point. Running\n",
    "a regression of shark attacks versus ice cream sales for data collected at\n",
    "a given beach community over a period of time would show a positive\n",
    "relationship, similar to that seen between sales and newspaper. Of course\n",
    "no one has (yet) suggested that ice creams should be banned at beaches\n",
    "to reduce shark attacks. In reality, higher temperatures cause more people\n",
    "to visit the beach, which in turn results in more ice cream sales and more\n",
    "shark attacks. A multiple regression of shark attacks onto ice cream sales\n",
    "and temperature reveals that, as intuition implies, ice cream sales is no\n",
    "longer a signifcant predictor after adjusting for temperature.\n",
    "\n",
    "\n",
    "Este resultado ligeiramente contra-intuitivo é muito comum \n",
    "em muitas situações da vida real.\n",
    "\n",
    "Considere um exemplo absurdo para ilustrar o ponto.\n",
    "\n",
    "Uma regressão de ataques de tubarões versus vendas \n",
    "de sorvete para dados coletados em uma determinada comunidade \n",
    "de praia durante um período de tempo mostraria uma relação \n",
    "positiva, semelhante à observada entre vendas e jornais.\n",
    "\n",
    "É claro que ninguém (ainda) sugeriu que os sorvetes \n",
    "deveriam ser proibidos nas praias para reduzir os \n",
    "ataques de tubarões.\n",
    "\n",
    "Na realidade, as temperaturas mais elevadas fazem com que \n",
    "mais pessoas visitem a praia, o que por sua vez resulta \n",
    "em mais vendas de sorvetes e mais ataques de tubarões.\n",
    "\n",
    "Uma regressão múltipla de ataques de tubarão usando \n",
    "vendas de sorvete e temperatura revela que, como a \n",
    "intuição indica, as vendas de sorvete não são mais \n",
    "um preditor significativo após a retificação pela temperatura."
   ]
  },
  {
   "cell_type": "code",
   "execution_count": null,
   "id": "fc006437",
   "metadata": {},
   "outputs": [],
   "source": []
  },
  {
   "cell_type": "code",
   "execution_count": 32,
   "id": "d17d568a",
   "metadata": {},
   "outputs": [
    {
     "data": {
      "image/png": "[encoded data removed]",
      "text/plain": [
       "<Figure size 300x300 with 10 Axes>"
      ]
     },
     "metadata": {},
     "output_type": "display_data"
    }
   ],
   "source": [
    "import seaborn as sns\n",
    "\n",
    "g = sns.PairGrid(Advertising, corner=True)\n",
    "\n",
    "g.map_lower(sns.scatterplot, s=5);\n",
    "\n",
    "g.fig.set_size_inches(3, 3)"
   ]
  },
  {
   "cell_type": "markdown",
   "id": "248eca43",
   "metadata": {},
   "source": [
    "# Matriz de correlação"
   ]
  },
  {
   "cell_type": "code",
   "execution_count": 33,
   "id": "022ec35b",
   "metadata": {},
   "outputs": [
    {
     "data": {
      "text/html": [
       "<div>\n",
       "<style scoped>\n",
       "    .dataframe tbody tr th:only-of-type {\n",
       "        vertical-align: middle;\n",
       "    }\n",
       "\n",
       "    .dataframe tbody tr th {\n",
       "        vertical-align: top;\n",
       "    }\n",
       "\n",
       "    .dataframe thead th {\n",
       "        text-align: right;\n",
       "    }\n",
       "</style>\n",
       "<table border=\"1\" class=\"dataframe\">\n",
       "  <thead>\n",
       "    <tr style=\"text-align: right;\">\n",
       "      <th></th>\n",
       "      <th>TV</th>\n",
       "      <th>radio</th>\n",
       "      <th>newspaper</th>\n",
       "      <th>sales</th>\n",
       "    </tr>\n",
       "  </thead>\n",
       "  <tbody>\n",
       "    <tr>\n",
       "      <th>TV</th>\n",
       "      <td>1.000000</td>\n",
       "      <td>0.054809</td>\n",
       "      <td>0.056648</td>\n",
       "      <td>0.782224</td>\n",
       "    </tr>\n",
       "    <tr>\n",
       "      <th>radio</th>\n",
       "      <td>0.054809</td>\n",
       "      <td>1.000000</td>\n",
       "      <td>0.354104</td>\n",
       "      <td>0.576223</td>\n",
       "    </tr>\n",
       "    <tr>\n",
       "      <th>newspaper</th>\n",
       "      <td>0.056648</td>\n",
       "      <td>0.354104</td>\n",
       "      <td>1.000000</td>\n",
       "      <td>0.228299</td>\n",
       "    </tr>\n",
       "    <tr>\n",
       "      <th>sales</th>\n",
       "      <td>0.782224</td>\n",
       "      <td>0.576223</td>\n",
       "      <td>0.228299</td>\n",
       "      <td>1.000000</td>\n",
       "    </tr>\n",
       "  </tbody>\n",
       "</table>\n",
       "</div>"
      ],
      "text/plain": [
       "                 TV     radio  newspaper     sales\n",
       "TV         1.000000  0.054809   0.056648  0.782224\n",
       "radio      0.054809  1.000000   0.354104  0.576223\n",
       "newspaper  0.056648  0.354104   1.000000  0.228299\n",
       "sales      0.782224  0.576223   0.228299  1.000000"
      ]
     },
     "execution_count": 33,
     "metadata": {},
     "output_type": "execute_result"
    }
   ],
   "source": [
    "Advertising.corr()"
   ]
  },
  {
   "cell_type": "markdown",
   "id": "8c9d7e28",
   "metadata": {},
   "source": [
    "# corrwith"
   ]
  },
  {
   "cell_type": "code",
   "execution_count": 34,
   "id": "59a41c05",
   "metadata": {},
   "outputs": [
    {
     "data": {
      "text/plain": [
       "TV           0.782224\n",
       "radio        0.576223\n",
       "newspaper    0.228299\n",
       "sales        1.000000\n",
       "dtype: float64"
      ]
     },
     "execution_count": 34,
     "metadata": {},
     "output_type": "execute_result"
    }
   ],
   "source": [
    "Advertising.corrwith(Advertising['sales'])"
   ]
  },
  {
   "cell_type": "code",
   "execution_count": null,
   "id": "a2929411",
   "metadata": {},
   "outputs": [],
   "source": []
  }
 ],
 "metadata": {
  "kernelspec": {
   "display_name": "Python 3 (ipykernel)",
   "language": "python",
   "name": "python3"
  },
  "language_info": {
   "codemirror_mode": {
    "name": "ipython",
    "version": 3
   },
   "file_extension": ".py",
   "mimetype": "text/x-python",
   "name": "python",
   "nbconvert_exporter": "python",
   "pygments_lexer": "ipython3",
   "version": "3.11.5"
  }
 },
 "nbformat": 4,
 "nbformat_minor": 5
}
